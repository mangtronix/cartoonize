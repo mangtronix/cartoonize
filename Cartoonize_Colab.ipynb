{
  "nbformat": 4,
  "nbformat_minor": 0,
  "metadata": {
    "colab": {
      "name": "Cartoonize Colab.ipynb",
      "provenance": [],
      "collapsed_sections": [],
      "machine_shape": "hm"
    },
    "kernelspec": {
      "name": "python3",
      "display_name": "Python 3"
    },
    "accelerator": "GPU"
  },
  "cells": [
    {
      "cell_type": "markdown",
      "metadata": {
        "id": "0L5P7fb4SCHd",
        "colab_type": "text"
      },
      "source": [
        "Run CartoonGAN on Colab, using web app from https://github.com/experience-ml/cartoonize\n",
        "\n",
        "Make sure to enable GPU using Runtime->Change runtime type\n",
        "\n",
        "This code is at\n",
        "https://github.com/mangtronix/cartoonize\n",
        "\n",
        "[![Open In Colab](https://colab.research.google.com/assets/colab-badge.svg)](https://colab.research.google.com/github/mangtronix/cartoonize/blob/master/Cartoonize_Colab.ipynb)\n"
      ]
    },
    {
      "cell_type": "code",
      "metadata": {
        "id": "owwfHbitORLk",
        "colab_type": "code",
        "colab": {
          "base_uri": "https://localhost:8080/",
          "height": 357
        },
        "outputId": "cf89f798-f5e4-4467-e346-e25c1b050ebe"
      },
      "source": [
        "!nvidia-smi"
      ],
      "execution_count": 1,
      "outputs": [
        {
          "output_type": "stream",
          "text": [
            "Sat Aug  1 19:06:55 2020       \n",
            "+-----------------------------------------------------------------------------+\n",
            "| NVIDIA-SMI 450.57       Driver Version: 418.67       CUDA Version: 10.1     |\n",
            "|-------------------------------+----------------------+----------------------+\n",
            "| GPU  Name        Persistence-M| Bus-Id        Disp.A | Volatile Uncorr. ECC |\n",
            "| Fan  Temp  Perf  Pwr:Usage/Cap|         Memory-Usage | GPU-Util  Compute M. |\n",
            "|                               |                      |               MIG M. |\n",
            "|===============================+======================+======================|\n",
            "|   0  Tesla P100-PCIE...  Off  | 00000000:00:04.0 Off |                    0 |\n",
            "| N/A   41C    P0    28W / 250W |      0MiB / 16280MiB |      0%      Default |\n",
            "|                               |                      |                 ERR! |\n",
            "+-------------------------------+----------------------+----------------------+\n",
            "                                                                               \n",
            "+-----------------------------------------------------------------------------+\n",
            "| Processes:                                                                  |\n",
            "|  GPU   GI   CI        PID   Type   Process name                  GPU Memory |\n",
            "|        ID   ID                                                   Usage      |\n",
            "|=============================================================================|\n",
            "|  No running processes found                                                 |\n",
            "+-----------------------------------------------------------------------------+\n"
          ],
          "name": "stdout"
        }
      ]
    },
    {
      "cell_type": "code",
      "metadata": {
        "id": "-sTMbkcfNfuZ",
        "colab_type": "code",
        "colab": {
          "base_uri": "https://localhost:8080/",
          "height": 153
        },
        "outputId": "53d17d14-f30d-425c-cb95-f0e0aa15203e"
      },
      "source": [
        "!git clone https://github.com/mangtronix/cartoonize.git\n",
        "%cd cartoonize\n"
      ],
      "execution_count": 2,
      "outputs": [
        {
          "output_type": "stream",
          "text": [
            "Cloning into 'cartoonize'...\n",
            "remote: Enumerating objects: 111, done.\u001b[K\n",
            "remote: Counting objects: 100% (111/111), done.\u001b[K\n",
            "remote: Compressing objects: 100% (82/82), done.\u001b[K\n",
            "remote: Total 111 (delta 43), reused 86 (delta 25), pack-reused 0\u001b[K\n",
            "Receiving objects: 100% (111/111), 8.69 MiB | 27.46 MiB/s, done.\n",
            "Resolving deltas: 100% (43/43), done.\n",
            "/content/cartoonize\n"
          ],
          "name": "stdout"
        }
      ]
    },
    {
      "cell_type": "code",
      "metadata": {
        "id": "mcMKE0UoPkVh",
        "colab_type": "code",
        "colab": {
          "base_uri": "https://localhost:8080/",
          "height": 459
        },
        "outputId": "ab012eb8-411f-4304-bcea-0b55e30713d9"
      },
      "source": [
        "!pip install flask-ngrok scikit-video tf_slim"
      ],
      "execution_count": 3,
      "outputs": [
        {
          "output_type": "stream",
          "text": [
            "Collecting flask-ngrok\n",
            "  Downloading https://files.pythonhosted.org/packages/af/6c/f54cb686ad1129e27d125d182f90f52b32f284e6c8df58c1bae54fa1adbc/flask_ngrok-0.0.25-py3-none-any.whl\n",
            "Collecting scikit-video\n",
            "\u001b[?25l  Downloading https://files.pythonhosted.org/packages/b1/a6/c69cad508139a342810ae46e946ebb3256aa6e42f690d901bb68f50582e3/scikit_video-1.1.11-py2.py3-none-any.whl (2.3MB)\n",
            "\u001b[K     |████████████████████████████████| 2.3MB 3.0MB/s \n",
            "\u001b[?25hCollecting tf_slim\n",
            "\u001b[?25l  Downloading https://files.pythonhosted.org/packages/02/97/b0f4a64df018ca018cc035d44f2ef08f91e2e8aa67271f6f19633a015ff7/tf_slim-1.1.0-py2.py3-none-any.whl (352kB)\n",
            "\u001b[K     |████████████████████████████████| 358kB 10.4MB/s \n",
            "\u001b[?25hRequirement already satisfied: requests in /usr/local/lib/python3.6/dist-packages (from flask-ngrok) (2.23.0)\n",
            "Requirement already satisfied: Flask>=0.8 in /usr/local/lib/python3.6/dist-packages (from flask-ngrok) (1.1.2)\n",
            "Requirement already satisfied: numpy in /usr/local/lib/python3.6/dist-packages (from scikit-video) (1.18.5)\n",
            "Requirement already satisfied: scipy in /usr/local/lib/python3.6/dist-packages (from scikit-video) (1.4.1)\n",
            "Requirement already satisfied: pillow in /usr/local/lib/python3.6/dist-packages (from scikit-video) (7.0.0)\n",
            "Requirement already satisfied: absl-py>=0.2.2 in /usr/local/lib/python3.6/dist-packages (from tf_slim) (0.9.0)\n",
            "Requirement already satisfied: urllib3!=1.25.0,!=1.25.1,<1.26,>=1.21.1 in /usr/local/lib/python3.6/dist-packages (from requests->flask-ngrok) (1.24.3)\n",
            "Requirement already satisfied: idna<3,>=2.5 in /usr/local/lib/python3.6/dist-packages (from requests->flask-ngrok) (2.10)\n",
            "Requirement already satisfied: chardet<4,>=3.0.2 in /usr/local/lib/python3.6/dist-packages (from requests->flask-ngrok) (3.0.4)\n",
            "Requirement already satisfied: certifi>=2017.4.17 in /usr/local/lib/python3.6/dist-packages (from requests->flask-ngrok) (2020.6.20)\n",
            "Requirement already satisfied: itsdangerous>=0.24 in /usr/local/lib/python3.6/dist-packages (from Flask>=0.8->flask-ngrok) (1.1.0)\n",
            "Requirement already satisfied: click>=5.1 in /usr/local/lib/python3.6/dist-packages (from Flask>=0.8->flask-ngrok) (7.1.2)\n",
            "Requirement already satisfied: Jinja2>=2.10.1 in /usr/local/lib/python3.6/dist-packages (from Flask>=0.8->flask-ngrok) (2.11.2)\n",
            "Requirement already satisfied: Werkzeug>=0.15 in /usr/local/lib/python3.6/dist-packages (from Flask>=0.8->flask-ngrok) (1.0.1)\n",
            "Requirement already satisfied: six in /usr/local/lib/python3.6/dist-packages (from absl-py>=0.2.2->tf_slim) (1.15.0)\n",
            "Requirement already satisfied: MarkupSafe>=0.23 in /usr/local/lib/python3.6/dist-packages (from Jinja2>=2.10.1->Flask>=0.8->flask-ngrok) (1.1.1)\n",
            "Installing collected packages: flask-ngrok, scikit-video, tf-slim\n",
            "Successfully installed flask-ngrok-0.0.25 scikit-video-1.1.11 tf-slim-1.1.0\n"
          ],
          "name": "stdout"
        }
      ]
    },
    {
      "cell_type": "code",
      "metadata": {
        "id": "RwmM-qKfOZUI",
        "colab_type": "code",
        "colab": {
          "base_uri": "https://localhost:8080/",
          "height": 1000
        },
        "outputId": "a8c4710b-7310-48d4-b646-901ae91006a2"
      },
      "source": [
        "!python app.py"
      ],
      "execution_count": null,
      "outputs": [
        {
          "output_type": "stream",
          "text": [
            "2020-08-01 19:07:08.256336: I tensorflow/stream_executor/platform/default/dso_loader.cc:44] Successfully opened dynamic library libcudart.so.10.1\n",
            "WARNING:tensorflow:From /usr/local/lib/python3.6/dist-packages/tf_slim/layers/layers.py:1089: Layer.apply (from tensorflow.python.keras.engine.base_layer_v1) is deprecated and will be removed in a future version.\n",
            "Instructions for updating:\n",
            "Please use `layer.__call__` method instead.\n",
            "WARNING:tensorflow:From /usr/local/lib/python3.6/dist-packages/tensorflow/python/ops/resource_variable_ops.py:1666: calling BaseResourceVariable.__init__ (from tensorflow.python.ops.resource_variable_ops) with constraint is deprecated and will be removed in a future version.\n",
            "Instructions for updating:\n",
            "If using Keras pass *_constraint arguments to layers.\n",
            "2020-08-01 19:07:10.788983: I tensorflow/core/platform/profile_utils/cpu_utils.cc:102] CPU Frequency: 2300000000 Hz\n",
            "2020-08-01 19:07:10.789408: I tensorflow/compiler/xla/service/service.cc:168] XLA service 0x1fb6bc0 initialized for platform Host (this does not guarantee that XLA will be used). Devices:\n",
            "2020-08-01 19:07:10.789447: I tensorflow/compiler/xla/service/service.cc:176]   StreamExecutor device (0): Host, Default Version\n",
            "2020-08-01 19:07:10.794230: I tensorflow/stream_executor/platform/default/dso_loader.cc:44] Successfully opened dynamic library libcuda.so.1\n",
            "2020-08-01 19:07:10.998040: I tensorflow/stream_executor/cuda/cuda_gpu_executor.cc:981] successful NUMA node read from SysFS had negative value (-1), but there must be at least one NUMA node, so returning NUMA node zero\n",
            "2020-08-01 19:07:10.999149: I tensorflow/compiler/xla/service/service.cc:168] XLA service 0x1fb6d80 initialized for platform CUDA (this does not guarantee that XLA will be used). Devices:\n",
            "2020-08-01 19:07:10.999190: I tensorflow/compiler/xla/service/service.cc:176]   StreamExecutor device (0): Tesla P100-PCIE-16GB, Compute Capability 6.0\n",
            "2020-08-01 19:07:11.000799: I tensorflow/stream_executor/cuda/cuda_gpu_executor.cc:981] successful NUMA node read from SysFS had negative value (-1), but there must be at least one NUMA node, so returning NUMA node zero\n",
            "2020-08-01 19:07:11.001833: I tensorflow/core/common_runtime/gpu/gpu_device.cc:1561] Found device 0 with properties: \n",
            "pciBusID: 0000:00:04.0 name: Tesla P100-PCIE-16GB computeCapability: 6.0\n",
            "coreClock: 1.3285GHz coreCount: 56 deviceMemorySize: 15.90GiB deviceMemoryBandwidth: 681.88GiB/s\n",
            "2020-08-01 19:07:11.001920: I tensorflow/stream_executor/platform/default/dso_loader.cc:44] Successfully opened dynamic library libcudart.so.10.1\n",
            "2020-08-01 19:07:11.267641: I tensorflow/stream_executor/platform/default/dso_loader.cc:44] Successfully opened dynamic library libcublas.so.10\n",
            "2020-08-01 19:07:11.418737: I tensorflow/stream_executor/platform/default/dso_loader.cc:44] Successfully opened dynamic library libcufft.so.10\n",
            "2020-08-01 19:07:11.463474: I tensorflow/stream_executor/platform/default/dso_loader.cc:44] Successfully opened dynamic library libcurand.so.10\n",
            "2020-08-01 19:07:11.732160: I tensorflow/stream_executor/platform/default/dso_loader.cc:44] Successfully opened dynamic library libcusolver.so.10\n",
            "2020-08-01 19:07:11.756861: I tensorflow/stream_executor/platform/default/dso_loader.cc:44] Successfully opened dynamic library libcusparse.so.10\n",
            "2020-08-01 19:07:12.271380: I tensorflow/stream_executor/platform/default/dso_loader.cc:44] Successfully opened dynamic library libcudnn.so.7\n",
            "2020-08-01 19:07:12.271625: I tensorflow/stream_executor/cuda/cuda_gpu_executor.cc:981] successful NUMA node read from SysFS had negative value (-1), but there must be at least one NUMA node, so returning NUMA node zero\n",
            "2020-08-01 19:07:12.272662: I tensorflow/stream_executor/cuda/cuda_gpu_executor.cc:981] successful NUMA node read from SysFS had negative value (-1), but there must be at least one NUMA node, so returning NUMA node zero\n",
            "2020-08-01 19:07:12.273537: I tensorflow/core/common_runtime/gpu/gpu_device.cc:1703] Adding visible gpu devices: 0\n",
            "2020-08-01 19:07:12.276936: I tensorflow/stream_executor/platform/default/dso_loader.cc:44] Successfully opened dynamic library libcudart.so.10.1\n",
            "2020-08-01 19:07:18.664827: I tensorflow/core/common_runtime/gpu/gpu_device.cc:1102] Device interconnect StreamExecutor with strength 1 edge matrix:\n",
            "2020-08-01 19:07:18.664898: I tensorflow/core/common_runtime/gpu/gpu_device.cc:1108]      0 \n",
            "2020-08-01 19:07:18.664926: I tensorflow/core/common_runtime/gpu/gpu_device.cc:1121] 0:   N \n",
            "2020-08-01 19:07:18.670183: I tensorflow/stream_executor/cuda/cuda_gpu_executor.cc:981] successful NUMA node read from SysFS had negative value (-1), but there must be at least one NUMA node, so returning NUMA node zero\n",
            "2020-08-01 19:07:18.671184: I tensorflow/stream_executor/cuda/cuda_gpu_executor.cc:981] successful NUMA node read from SysFS had negative value (-1), but there must be at least one NUMA node, so returning NUMA node zero\n",
            "2020-08-01 19:07:18.672103: I tensorflow/core/common_runtime/gpu/gpu_device.cc:1247] Created TensorFlow device (/job:localhost/replica:0/task:0/device:GPU:0 with 14974 MB memory) -> physical GPU (device: 0, name: Tesla P100-PCIE-16GB, pci bus id: 0000:00:04.0, compute capability: 6.0)\n",
            "Weights successfully loaded\n",
            " * Serving Flask app \"app\" (lazy loading)\n",
            " * Environment: production\n",
            "\u001b[31m   WARNING: This is a development server. Do not use it in a production deployment.\u001b[0m\n",
            "\u001b[2m   Use a production WSGI server instead.\u001b[0m\n",
            " * Debug mode: off\n",
            " * Running on http://127.0.0.1:5000/ (Press CTRL+C to quit)\n",
            " * Running on http://e0a8f5314bd7.ngrok.io\n",
            " * Traffic stats available on http://127.0.0.1:4040\n",
            "127.0.0.1 - - [01/Aug/2020 19:07:25] \"\u001b[37mGET / HTTP/1.1\u001b[0m\" 200 -\n",
            "127.0.0.1 - - [01/Aug/2020 19:07:25] \"\u001b[37mGET /static/sample_images/emma2.jpg HTTP/1.1\u001b[0m\" 200 -\n",
            "127.0.0.1 - - [01/Aug/2020 19:07:25] \"\u001b[37mGET /static/sample_images/spice.jpeg HTTP/1.1\u001b[0m\" 200 -\n",
            "127.0.0.1 - - [01/Aug/2020 19:07:25] \"\u001b[37mGET /static/sample_images/emma2_cartoonized.jpg HTTP/1.1\u001b[0m\" 200 -\n",
            "127.0.0.1 - - [01/Aug/2020 19:07:25] \"\u001b[37mGET /static/sample_images/cake_cartoonized.jpeg HTTP/1.1\u001b[0m\" 200 -\n",
            "127.0.0.1 - - [01/Aug/2020 19:07:25] \"\u001b[37mGET /static/sample_images/spice_cartoonized.jpeg HTTP/1.1\u001b[0m\" 200 -\n",
            "127.0.0.1 - - [01/Aug/2020 19:07:25] \"\u001b[37mGET /static/sample_images/cake.jpeg HTTP/1.1\u001b[0m\" 200 -\n",
            "127.0.0.1 - - [01/Aug/2020 19:07:26] \"\u001b[33mGET /favicon.ico HTTP/1.1\u001b[0m\" 404 -\n",
            "2020-08-01 19:08:12.213291: I tensorflow/stream_executor/platform/default/dso_loader.cc:44] Successfully opened dynamic library libcudnn.so.7\n",
            "2020-08-01 19:08:16.650746: I tensorflow/stream_executor/platform/default/dso_loader.cc:44] Successfully opened dynamic library libcublas.so.10\n",
            "tcmalloc: large alloc 5903540224 bytes == 0x7feb4c1f2000 @  0x7fef1a11f1e7 0x7fef0d4b45e1 0x7fef0d518c78 0x7fef0d518d93 0x7fef0d5b6ea8 0x7fef0d5b7704 0x7fef0d5b7852 0x567193 0x59fe1e 0x7fef0d5044ed 0x50a47f 0x50c1f4 0x507f24 0x509c50 0x50a64d 0x50cfd6 0x507f24 0x588e91 0x59fe1e 0x7fef0d5044ed 0x50a47f 0x50c1f4 0x507f24 0x509c50 0x50a64d 0x50c1f4 0x509918 0x50a64d 0x50c1f4 0x507f24 0x588e91\n",
            "/usr/bin/ffmpeg -y -r 15/1 -f rawvideo -pix_fmt rgb24 -s 1920x1080 -i - -r 15/1 /content/cartoonize/static/uploaded_videos/e041f2b-544d44da-99a9-4f29-b732-56dabd41cc40_modified.mp4\n",
            "ffmpeg version 3.4.8-0ubuntu0.2 Copyright (c) 2000-2020 the FFmpeg developers\n",
            "  built with gcc 7 (Ubuntu 7.5.0-3ubuntu1~18.04)\n",
            "  configuration: --prefix=/usr --extra-version=0ubuntu0.2 --toolchain=hardened --libdir=/usr/lib/x86_64-linux-gnu --incdir=/usr/include/x86_64-linux-gnu --enable-gpl --disable-stripping --enable-avresample --enable-avisynth --enable-gnutls --enable-ladspa --enable-libass --enable-libbluray --enable-libbs2b --enable-libcaca --enable-libcdio --enable-libflite --enable-libfontconfig --enable-libfreetype --enable-libfribidi --enable-libgme --enable-libgsm --enable-libmp3lame --enable-libmysofa --enable-libopenjpeg --enable-libopenmpt --enable-libopus --enable-libpulse --enable-librubberband --enable-librsvg --enable-libshine --enable-libsnappy --enable-libsoxr --enable-libspeex --enable-libssh --enable-libtheora --enable-libtwolame --enable-libvorbis --enable-libvpx --enable-libwavpack --enable-libwebp --enable-libx265 --enable-libxml2 --enable-libxvid --enable-libzmq --enable-libzvbi --enable-omx --enable-openal --enable-opengl --enable-sdl2 --enable-libdc1394 --enable-libdrm --enable-libiec61883 --enable-chromaprint --enable-frei0r --enable-libopencv --enable-libx264 --enable-shared\n",
            "  libavutil      55. 78.100 / 55. 78.100\n",
            "  libavcodec     57.107.100 / 57.107.100\n",
            "  libavformat    57. 83.100 / 57. 83.100\n",
            "  libavdevice    57. 10.100 / 57. 10.100\n",
            "  libavfilter     6.107.100 /  6.107.100\n",
            "  libavresample   3.  7.  0 /  3.  7.  0\n",
            "  libswscale      4.  8.100 /  4.  8.100\n",
            "  libswresample   2.  9.100 /  2.  9.100\n",
            "  libpostproc    54.  7.100 / 54.  7.100\n",
            "Input #0, rawvideo, from 'pipe:':\n",
            "  Duration: N/A, start: 0.000000, bitrate: 746496 kb/s\n",
            "    Stream #0:0: Video: rawvideo (RGB[24] / 0x18424752), rgb24, 1920x1080, 746496 kb/s, 15 tbr, 15 tbn, 15 tbc\n",
            "Stream mapping:\n",
            "  Stream #0:0 -> #0:0 (rawvideo (native) -> h264 (libx264))\n",
            "\u001b[1;36m[libx264 @ 0x560d7cfed900] \u001b[0musing cpu capabilities: MMX2 SSE2Fast SSSE3 SSE4.2 AVX FMA3 BMI2 AVX2\n",
            "\u001b[1;36m[libx264 @ 0x560d7cfed900] \u001b[0mprofile High 4:4:4 Predictive, level 4.0, 4:4:4 8-bit\n",
            "\u001b[1;36m[libx264 @ 0x560d7cfed900] \u001b[0m264 - core 152 r2854 e9a5903 - H.264/MPEG-4 AVC codec - Copyleft 2003-2017 - http://www.videolan.org/x264.html - options: cabac=1 ref=3 deblock=1:0:0 analyse=0x1:0x111 me=hex subme=7 psy=1 psy_rd=1.00:0.00 mixed_ref=1 me_range=16 chroma_me=1 trellis=1 8x8dct=0 cqm=0 deadzone=21,11 fast_pskip=1 chroma_qp_offset=4 threads=6 lookahead_threads=1 sliced_threads=0 nr=0 decimate=1 interlaced=0 bluray_compat=0 constrained_intra=0 bframes=3 b_pyramid=2 b_adapt=1 b_bias=0 direct=1 weightb=1 open_gop=0 weightp=2 keyint=250 keyint_min=15 scenecut=40 intra_refresh=0 rc_lookahead=40 rc=crf mbtree=1 crf=23.0 qcomp=0.60 qpmin=0 qpmax=69 qpstep=4 ip_ratio=1.40 aq=1:1.00\n",
            "Output #0, mp4, to '/content/cartoonize/static/uploaded_videos/e041f2b-544d44da-99a9-4f29-b732-56dabd41cc40_modified.mp4':\n",
            "  Metadata:\n",
            "    encoder         : Lavf57.83.100\n",
            "    Stream #0:0: Video: h264 (libx264) (avc1 / 0x31637661), yuv444p, 1920x1080, q=-1--1, 15 fps, 15360 tbn, 15 tbc\n",
            "    Metadata:\n",
            "      encoder         : Lavc57.107.100 libx264\n",
            "    Side data:\n",
            "      cpb: bitrate max/min/avg: 0/0/0 buffer size: 0 vbv_delay: -1\n",
            "frame=  949 fps=9.7 q=-1.0 Lsize=   20917kB time=00:01:03.06 bitrate=2717.0kbits/s speed=0.647x    \n",
            "video:20905kB audio:0kB subtitle:0kB other streams:0kB global headers:0kB muxing overhead: 0.058342%\n",
            "\u001b[1;36m[libx264 @ 0x560d7cfed900] \u001b[0mframe I:5     Avg QP:19.59  size: 91349\n",
            "\u001b[1;36m[libx264 @ 0x560d7cfed900] \u001b[0mframe P:244   Avg QP:21.94  size: 40591\n",
            "\u001b[1;36m[libx264 @ 0x560d7cfed900] \u001b[0mframe B:700   Avg QP:24.12  size: 15778\n",
            "\u001b[1;36m[libx264 @ 0x560d7cfed900] \u001b[0mconsecutive B-frames:  1.6%  0.2%  0.0% 98.2%\n",
            "\u001b[1;36m[libx264 @ 0x560d7cfed900] \u001b[0mmb I  I16..4: 55.6%  0.0% 44.4%\n",
            "\u001b[1;36m[libx264 @ 0x560d7cfed900] \u001b[0mmb P  I16..4: 14.5%  0.0%  6.6%  P16..4: 42.3% 14.6%  5.0%  0.0%  0.0%    skip:17.1%\n",
            "\u001b[1;36m[libx264 @ 0x560d7cfed900] \u001b[0mmb B  I16..4:  2.1%  0.0%  1.0%  B16..8: 39.6%  5.6%  0.9%  direct: 2.7%  skip:48.1%  L0:44.7% L1:49.5% BI: 5.9%\n",
            "\u001b[1;36m[libx264 @ 0x560d7cfed900] \u001b[0mcoded y,u,v intra: 24.7% 10.7% 22.1% inter: 7.9% 2.0% 5.9%\n",
            "\u001b[1;36m[libx264 @ 0x560d7cfed900] \u001b[0mi16 v,h,dc,p: 28% 24% 16% 32%\n",
            "\u001b[1;36m[libx264 @ 0x560d7cfed900] \u001b[0mi4 v,h,dc,ddl,ddr,vr,hd,vl,hu: 26% 17% 26%  5%  7%  6%  6%  5%  3%\n",
            "\u001b[1;36m[libx264 @ 0x560d7cfed900] \u001b[0mWeighted P-Frames: Y:0.0% UV:0.0%\n",
            "\u001b[1;36m[libx264 @ 0x560d7cfed900] \u001b[0mref P L0: 43.8%  9.4% 27.3% 19.5%\n",
            "\u001b[1;36m[libx264 @ 0x560d7cfed900] \u001b[0mref B L0: 86.4%  9.8%  3.8%\n",
            "\u001b[1;36m[libx264 @ 0x560d7cfed900] \u001b[0mref B L1: 95.0%  5.0%\n",
            "\u001b[1;36m[libx264 @ 0x560d7cfed900] \u001b[0mkb/s:2706.74\n",
            "ffmpeg version 3.4.8-0ubuntu0.2 Copyright (c) 2000-2020 the FFmpeg developers\n",
            "  built with gcc 7 (Ubuntu 7.5.0-3ubuntu1~18.04)\n",
            "  configuration: --prefix=/usr --extra-version=0ubuntu0.2 --toolchain=hardened --libdir=/usr/lib/x86_64-linux-gnu --incdir=/usr/include/x86_64-linux-gnu --enable-gpl --disable-stripping --enable-avresample --enable-avisynth --enable-gnutls --enable-ladspa --enable-libass --enable-libbluray --enable-libbs2b --enable-libcaca --enable-libcdio --enable-libflite --enable-libfontconfig --enable-libfreetype --enable-libfribidi --enable-libgme --enable-libgsm --enable-libmp3lame --enable-libmysofa --enable-libopenjpeg --enable-libopenmpt --enable-libopus --enable-libpulse --enable-librubberband --enable-librsvg --enable-libshine --enable-libsnappy --enable-libsoxr --enable-libspeex --enable-libssh --enable-libtheora --enable-libtwolame --enable-libvorbis --enable-libvpx --enable-libwavpack --enable-libwebp --enable-libx265 --enable-libxml2 --enable-libxvid --enable-libzmq --enable-libzvbi --enable-omx --enable-openal --enable-opengl --enable-sdl2 --enable-libdc1394 --enable-libdrm --enable-libiec61883 --enable-chromaprint --enable-frei0r --enable-libopencv --enable-libx264 --enable-shared\n",
            "  libavutil      55. 78.100 / 55. 78.100\n",
            "  libavcodec     57.107.100 / 57.107.100\n",
            "  libavformat    57. 83.100 / 57. 83.100\n",
            "  libavdevice    57. 10.100 / 57. 10.100\n",
            "  libavfilter     6.107.100 /  6.107.100\n",
            "  libavresample   3.  7.  0 /  3.  7.  0\n",
            "  libswscale      4.  8.100 /  4.  8.100\n",
            "  libswresample   2.  9.100 /  2.  9.100\n",
            "  libpostproc    54.  7.100 / 54.  7.100\n",
            "Input #0, mov,mp4,m4a,3gp,3g2,mj2, from '/content/cartoonize/static/uploaded_videos/e041f2b-544d44da-99a9-4f29-b732-56dabd41cc40_modified.mp4':\n",
            "  Metadata:\n",
            "    major_brand     : isom\n",
            "    minor_version   : 512\n",
            "    compatible_brands: isomiso2avc1mp41\n",
            "    encoder         : Lavf57.83.100\n",
            "  Duration: 00:01:03.27, start: 0.000000, bitrate: 2708 kb/s\n",
            "    Stream #0:0(und): Video: h264 (High 4:4:4 Predictive) (avc1 / 0x31637661), yuv444p, 1920x1080, 2706 kb/s, 15 fps, 15 tbr, 15360 tbn, 30 tbc (default)\n",
            "    Metadata:\n",
            "      handler_name    : VideoHandler\n",
            "Stream mapping:\n",
            "  Stream #0:0 -> #0:0 (h264 (native) -> h264 (libx264))\n",
            "Press [q] to stop, [?] for help\n",
            "\u001b[1;36m[libx264 @ 0x558e84b81900] \u001b[0musing cpu capabilities: MMX2 SSE2Fast SSSE3 SSE4.2 AVX FMA3 BMI2 AVX2\n",
            "\u001b[1;36m[libx264 @ 0x558e84b81900] \u001b[0mprofile High, level 4.0\n",
            "\u001b[1;36m[libx264 @ 0x558e84b81900] \u001b[0m264 - core 152 r2854 e9a5903 - H.264/MPEG-4 AVC codec - Copyleft 2003-2017 - http://www.videolan.org/x264.html - options: cabac=1 ref=3 deblock=1:0:0 analyse=0x3:0x113 me=hex subme=7 psy=1 psy_rd=1.00:0.00 mixed_ref=1 me_range=16 chroma_me=1 trellis=1 8x8dct=1 cqm=0 deadzone=21,11 fast_pskip=1 chroma_qp_offset=-2 threads=6 lookahead_threads=1 sliced_threads=0 nr=0 decimate=1 interlaced=0 bluray_compat=0 constrained_intra=0 bframes=3 b_pyramid=2 b_adapt=1 b_bias=0 direct=1 weightb=1 open_gop=0 weightp=2 keyint=250 keyint_min=15 scenecut=40 intra_refresh=0 rc_lookahead=40 rc=crf mbtree=1 crf=23.0 qcomp=0.60 qpmin=0 qpmax=69 qpstep=4 ip_ratio=1.40 aq=1:1.00\n",
            "Output #0, mp4, to 'static/uploaded_videos/final_e041f2b-544d44da-99a9-4f29-b732-56dabd41cc40_modified.mp4':\n",
            "  Metadata:\n",
            "    major_brand     : isom\n",
            "    minor_version   : 512\n",
            "    compatible_brands: isomiso2avc1mp41\n",
            "    encoder         : Lavf57.83.100\n",
            "    Stream #0:0(und): Video: h264 (libx264) (avc1 / 0x31637661), yuv420p, 1920x1080, q=-1--1, 15 fps, 15360 tbn, 15 tbc (default)\n",
            "    Metadata:\n",
            "      handler_name    : VideoHandler\n",
            "      encoder         : Lavc57.107.100 libx264\n",
            "    Side data:\n",
            "      cpb: bitrate max/min/avg: 0/0/0 buffer size: 0 vbv_delay: -1\n",
            "frame=  949 fps= 11 q=-1.0 Lsize=   19416kB time=00:01:03.06 bitrate=2522.0kbits/s speed=0.755x    \n",
            "video:19403kB audio:0kB subtitle:0kB other streams:0kB global headers:0kB muxing overhead: 0.062776%\n",
            "\u001b[1;36m[libx264 @ 0x558e84b81900] \u001b[0mframe I:5     Avg QP:16.62  size: 95416\n",
            "\u001b[1;36m[libx264 @ 0x558e84b81900] \u001b[0mframe P:253   Avg QP:19.43  size: 38860\n",
            "\u001b[1;36m[libx264 @ 0x558e84b81900] \u001b[0mframe B:691   Avg QP:22.34  size: 13835\n",
            "\u001b[1;36m[libx264 @ 0x558e84b81900] \u001b[0mconsecutive B-frames:  1.6%  4.0%  0.0% 94.4%\n",
            "\u001b[1;36m[libx264 @ 0x558e84b81900] \u001b[0mmb I  I16..4: 40.6% 32.9% 26.6%\n",
            "\u001b[1;36m[libx264 @ 0x558e84b81900] \u001b[0mmb P  I16..4: 10.2%  9.6%  3.1%  P16..4: 46.3% 12.3%  3.8%  0.0%  0.0%    skip:14.7%\n",
            "\u001b[1;36m[libx264 @ 0x558e84b81900] \u001b[0mmb B  I16..4:  1.3%  1.3%  0.5%  B16..8: 38.2%  5.2%  0.6%  direct: 2.3%  skip:50.6%  L0:44.8% L1:49.6% BI: 5.6%\n",
            "\u001b[1;36m[libx264 @ 0x558e84b81900] \u001b[0m8x8 transform intra:41.3% inter:75.8%\n",
            "\u001b[1;36m[libx264 @ 0x558e84b81900] \u001b[0mcoded y,uvDC,uvAC intra: 32.3% 90.5% 46.0% inter: 9.2% 18.3% 2.3%\n",
            "\u001b[1;36m[libx264 @ 0x558e84b81900] \u001b[0mi16 v,h,dc,p: 29% 25% 15% 31%\n",
            "\u001b[1;36m[libx264 @ 0x558e84b81900] \u001b[0mi8 v,h,dc,ddl,ddr,vr,hd,vl,hu: 26% 20% 29%  4%  4%  5%  5%  4%  3%\n",
            "\u001b[1;36m[libx264 @ 0x558e84b81900] \u001b[0mi4 v,h,dc,ddl,ddr,vr,hd,vl,hu: 29% 17% 19%  5%  7%  7%  6%  6%  3%\n",
            "\u001b[1;36m[libx264 @ 0x558e84b81900] \u001b[0mi8c dc,h,v,p: 47% 21% 23%  9%\n",
            "\u001b[1;36m[libx264 @ 0x558e84b81900] \u001b[0mWeighted P-Frames: Y:0.0% UV:0.0%\n",
            "\u001b[1;36m[libx264 @ 0x558e84b81900] \u001b[0mref P L0: 51.7%  7.8% 24.4% 16.2%\n",
            "\u001b[1;36m[libx264 @ 0x558e84b81900] \u001b[0mref B L0: 86.2%  9.9%  3.9%\n",
            "\u001b[1;36m[libx264 @ 0x558e84b81900] \u001b[0mref B L1: 95.5%  4.5%\n",
            "\u001b[1;36m[libx264 @ 0x558e84b81900] \u001b[0mkb/s:2512.34\n",
            "127.0.0.1 - - [01/Aug/2020 19:12:56] \"\u001b[37mPOST /cartoonize HTTP/1.1\u001b[0m\" 200 -\n",
            "127.0.0.1 - - [01/Aug/2020 19:13:18] \"\u001b[37mGET /static/uploaded_videos/final_e041f2b-544d44da-99a9-4f29-b732-56dabd41cc40_modified.mp4 HTTP/1.1\u001b[0m\" 206 -\n",
            "127.0.0.1 - - [01/Aug/2020 19:13:19] \"\u001b[37mGET /static/uploaded_videos/final_e041f2b-544d44da-99a9-4f29-b732-56dabd41cc40_modified.mp4 HTTP/1.1\u001b[0m\" 206 -\n",
            "127.0.0.1 - - [01/Aug/2020 19:13:19] \"\u001b[37mGET /static/uploaded_videos/final_e041f2b-544d44da-99a9-4f29-b732-56dabd41cc40_modified.mp4 HTTP/1.1\u001b[0m\" 206 -\n",
            "127.0.0.1 - - [01/Aug/2020 19:13:20] \"\u001b[37mGET /static/uploaded_videos/final_e041f2b-544d44da-99a9-4f29-b732-56dabd41cc40_modified.mp4 HTTP/1.1\u001b[0m\" 200 -\n"
          ],
          "name": "stdout"
        }
      ]
    }
  ]
}